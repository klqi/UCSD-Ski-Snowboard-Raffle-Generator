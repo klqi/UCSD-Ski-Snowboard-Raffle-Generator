{
 "cells": [
  {
   "cell_type": "code",
   "execution_count": 1,
   "metadata": {},
   "outputs": [],
   "source": [
    "import pandas as pd\n",
    "import numpy as np\n",
    "import random\n",
    "import matplotlib.pyplot as plt"
   ]
  },
  {
   "cell_type": "code",
   "execution_count": 2,
   "metadata": {},
   "outputs": [
    {
     "name": "stdout",
     "output_type": "stream",
     "text": [
      "Molly Novasel\n"
     ]
    }
   ],
   "source": [
    "# get name and num tickets per person\n",
    "columns = [\"Name\", \"Tickets\"]\n",
    "people = pd.read_csv(\"Comp Pass Raffle #1 - Sheet1.csv\", usecols=columns)\n",
    "potential = []\n",
    "# loop through and append people to list of potential winners\n",
    "for i in range(len(people.Name)):\n",
    "    potential += [people.Name[i]] * people.Tickets[i]\n",
    "# generate winner with random\n",
    "winner = random.choice(potential)\n",
    "print(winner)"
   ]
  },
  {
   "cell_type": "code",
   "execution_count": 3,
   "metadata": {},
   "outputs": [
    {
     "data": {
      "image/png": "[encoded data removed]",
      "text/plain": [
       "<Figure size 432x288 with 1 Axes>"
      ]
     },
     "metadata": {
      "needs_background": "light"
     },
     "output_type": "display_data"
    }
   ],
   "source": [
    "# print probability distribution\n",
    "people[\"Probability\"] = people.Tickets/len(potential)\n",
    "plt.plot(people.Tickets, people.Probability)\n",
    "plt.show()"
   ]
  }
 ],
 "metadata": {
  "kernelspec": {
   "display_name": "Python 3",
   "language": "python",
   "name": "python3"
  },
  "language_info": {
   "codemirror_mode": {
    "name": "ipython",
    "version": 3
   },
   "file_extension": ".py",
   "mimetype": "text/x-python",
   "name": "python",
   "nbconvert_exporter": "python",
   "pygments_lexer": "ipython3",
   "version": "3.6.5"
  }
 },
 "nbformat": 4,
 "nbformat_minor": 2
}
